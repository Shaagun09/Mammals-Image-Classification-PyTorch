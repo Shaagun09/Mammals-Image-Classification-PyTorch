{
 "cells": [
  {
   "cell_type": "markdown",
   "metadata": {
    "id": "pJqXF_gBC2_g"
   },
   "source": [
    "#### Instructions:  \n",
    "1. Libraries allowed: **Python basic libraries, numpy, pandas, scikit-learn (only for data processing), pytorch, and ClearML.**\n",
    "2. Show all outputs.\n",
    "3. Submit jupyter notebook and a pdf export of the notebook. Check canvas for detail instructions for the report.\n",
    "4. Below are the questions/steps that you need to answer. Add as many cells as needed.\n"
   ]
  },
  {
   "cell_type": "code",
   "execution_count": 3,
   "metadata": {
    "colab": {
     "base_uri": "https://localhost:8080/"
    },
    "id": "T_WQgzWHLWT1",
    "outputId": "fc13f345-fce1-4c04-b852-bb0af1adb088"
   },
   "outputs": [],
   "source": [
    "!pip install --quiet git+https://github.com/allegroai/clearml\n"
   ]
  },
  {
   "cell_type": "code",
   "execution_count": 4,
   "metadata": {
    "colab": {
     "base_uri": "https://localhost:8080/"
    },
    "id": "dzqmkbaoMRM8",
    "outputId": "c7e33f64-713e-4c08-bbe9-6fb9ed2d282c"
   },
   "outputs": [
    {
     "name": "stdout",
     "output_type": "stream",
     "text": [
      "env: CLEARML_WEB_HOST=https://app.clear.ml/\n",
      "env: CLEARML_API_HOST=https://api.clear.ml\n",
      "env: CLEARML_FILES_HOST=https://files.clear.ml\n",
      "env: CLEARML_API_ACCESS_KEY=W6U5DT7EO5OI92P270XMOHAVNUBLQW\n",
      "env: CLEARML_API_SECRET_KEY=8i9pBQJ3lQRslWEC4LtgCB7cFoW-V7BGTcWdAIWKVTJPqwaYALQ7dvQMccFQR1DDVFE\n"
     ]
    }
   ],
   "source": [
    "%env CLEARML_WEB_HOST=https://app.clear.ml/\n",
    "%env CLEARML_API_HOST=https://api.clear.ml\n",
    "%env CLEARML_FILES_HOST=https://files.clear.ml\n",
    "%env CLEARML_API_ACCESS_KEY = W6U5DT7EO5OI92P270XMOHAVNUBLQW\n",
    "%env CLEARML_API_SECRET_KEY = 8i9pBQJ3lQRslWEC4LtgCB7cFoW-V7BGTcWdAIWKVTJPqwaYALQ7dvQMccFQR1DDVFE"
   ]
  },
  {
   "cell_type": "code",
   "execution_count": 5,
   "metadata": {},
   "outputs": [],
   "source": [
    "import clearml\n",
    "\n",
    "clearml.browser_login()"
   ]
  },
  {
   "cell_type": "code",
   "execution_count": 6,
   "metadata": {
    "id": "3LtjPrC6MT3s"
   },
   "outputs": [],
   "source": [
    "import logging\n",
    "from clearml import Task\n",
    "from clearml.automation import (\n",
    "    DiscreteParameterRange, HyperParameterOptimizer, RandomSearch,\n",
    "    UniformParameterRange, LogUniformParameterRange, UniformIntegerParameterRange)\n"
   ]
  },
  {
   "cell_type": "code",
   "execution_count": 7,
   "metadata": {
    "colab": {
     "base_uri": "https://localhost:8080/"
    },
    "id": "UwJlFKSeXaiu",
    "outputId": "dbf1f800-57d0-4d1e-8bfc-d98a26307684"
   },
   "outputs": [
    {
     "name": "stderr",
     "output_type": "stream",
     "text": [
      "Apologies, it seems you do not have 'optuna' or 'hpbandster' installed, we will be using RandomSearch strategy instead\n"
     ]
    }
   ],
   "source": [
    "\n",
    "try:\n",
    "    from clearml.automation.optuna import OptimizerOptuna\n",
    "    aSearchStrategy = OptimizerOptuna\n",
    "except ImportError as ex:\n",
    "    try:\n",
    "        from clearml.automation.hpbandster import OptimizerBOHB\n",
    "        aSearchStrategy = OptimizerBOHB\n",
    "    except ImportError as ex:\n",
    "        logging.getLogger().warning(\n",
    "            'Apologies, it seems you do not have \\'optuna\\' or \\'hpbandster\\' installed, '\n",
    "            'we will be using RandomSearch strategy instead')\n",
    "        aSearchStrategy = RandomSearch\n",
    "\n",
    "\n",
    "def job_complete_callback(\n",
    "    job_id,\n",
    "    objective_value,\n",
    "    objective_iteration,\n",
    "    job_parameters,\n",
    "    top_performance_job_id\n",
    "):\n",
    "    print('Job completed!', job_id, objective_value, objective_iteration, job_parameters)\n",
    "    if job_id == top_performance_job_id:\n",
    "        print('WOOT WOOT we broke the record! Objective reached {}'.format(objective_value))\n",
    "\n"
   ]
  },
  {
   "cell_type": "markdown",
   "metadata": {
    "id": "NOJzZ-l0Xaiu"
   },
   "source": [
    "## Step 4: hyperparameter tuning without learning rate decay\n",
    "Do hyperparater tuning with ClearML and copy the plots (e.g., parallel coordinates) from ClearML and visualize them here."
   ]
  },
  {
   "cell_type": "code",
   "execution_count": 8,
   "metadata": {
    "colab": {
     "base_uri": "https://localhost:8080/"
    },
    "id": "BkilP-4uXaiv",
    "outputId": "e252b069-93c6-44d8-aef7-bdd1d5718623"
   },
   "outputs": [
    {
     "name": "stdout",
     "output_type": "stream",
     "text": [
      "ClearML Task: created new task id=5654df37f8804d5ca92efeaabc316d02\n",
      "ClearML results page: https://app.clear.ml/projects/6fc4af4d8e354802a615661df7b8c2e2/experiments/5654df37f8804d5ca92efeaabc316d02/output/log\n",
      "2024-11-26 21:15:26,658 - clearml.Task - INFO - No repository found, storing script code instead\n",
      "ClearML Monitor: GPU monitoring failed getting GPU reading, switching off GPU monitoring\n"
     ]
    }
   ],
   "source": [
    "task = Task.init(project_name='PART 2 Project 1 without LRD',\n",
    "                 task_name='Automatic Hyper-Parameter Optimization',\n",
    "                 task_type=Task.TaskTypes.optimizer,\n",
    "                 reuse_last_task_id=False)\n",
    "\n",
    "\n",
    "args = {\n",
    "    'template_task_id': '80938b97d6d44a0a901a8242030d5573',\n",
    "    'run_as_service': False,\n",
    "}\n",
    "args = task.connect(args)\n"
   ]
  },
  {
   "cell_type": "code",
   "execution_count": 9,
   "metadata": {
    "id": "5Z68CMgeXaiv"
   },
   "outputs": [],
   "source": [
    "an_optimizer = HyperParameterOptimizer(\n",
    "    base_task_id=args['template_task_id'],\n",
    "    hyper_parameters=[\n",
    "        UniformIntegerParameterRange('General/num_layers', min_value=3, max_value=12, step_size=1),\n",
    "        UniformIntegerParameterRange('General/num_filters', min_value=16, max_value=128, step_size=16),\n",
    "        LogUniformParameterRange('General/learning_rate', min_value=1.0e-5, max_value=1.0e-2),\n",
    "       UniformParameterRange('General/momentum', min_value=0.7, max_value=0.99),\n",
    "        DiscreteParameterRange('General/weight_decay', values=[0, 1.0e-4, 1.0e-3])\n",
    "    ],\n",
    "    objective_metric_title='Loss',\n",
    "    objective_metric_series='Train',\n",
    "    objective_metric_sign='min',\n",
    "    max_number_of_concurrent_tasks=2,\n",
    "    optimizer_class=aSearchStrategy,\n",
    "    spawn_project=None,\n",
    "    save_top_k_tasks_only=None,\n",
    "    total_max_jobs=5,\n",
    "    min_iteration_per_job=2,\n",
    "    max_iteration_per_job=4,\n",
    ")"
   ]
  },
  {
   "cell_type": "code",
   "execution_count": 10,
   "metadata": {
    "colab": {
     "base_uri": "https://localhost:8080/"
    },
    "id": "RwqAOpZPMKJt",
    "outputId": "813350dd-3a46-4eb3-dcc3-2225d1deb434"
   },
   "outputs": [
    {
     "name": "stdout",
     "output_type": "stream",
     "text": [
      "Progress report #0 completed, sleeping for 0.25 minutes\n",
      "2024-11-26 21:15:44,494 - clearml.automation.optimization - INFO - Creating new Task: {'General/num_layers': 12, 'General/num_filters': 96, 'General/learning_rate': 1.0132440917076855, 'General/momentum': 0.91224950058795, 'General/weight_decay': 0.0001}\n",
      "2024-11-26 21:15:47,159 - clearml.automation.optimization - INFO - Creating new Task: {'General/num_layers': 9, 'General/num_filters': 96, 'General/learning_rate': 1.0214521992631094, 'General/momentum': 0.7892136825140557, 'General/weight_decay': 0.001}\n",
      "Progress report #1 completed, sleeping for 0.2 minutes\n",
      "Progress report #2 completed, sleeping for 0.2 minutes\n",
      "Progress report #3 completed, sleeping for 0.2 minutes\n",
      "Progress report #4 completed, sleeping for 0.2 minutes\n",
      "Progress report #5 completed, sleeping for 0.2 minutes\n",
      "Progress report #6 completed, sleeping for 0.2 minutes\n",
      "Progress report #7 completed, sleeping for 0.2 minutes\n",
      "Progress report #8 completed, sleeping for 0.2 minutes\n",
      "Progress report #9 completed, sleeping for 0.2 minutes\n",
      "Progress report #10 completed, sleeping for 0.2 minutes\n",
      "Progress report #11 completed, sleeping for 0.2 minutes\n",
      "Progress report #12 completed, sleeping for 0.2 minutes\n",
      "Progress report #13 completed, sleeping for 0.2 minutes\n",
      "Progress report #14 completed, sleeping for 0.2 minutes\n",
      "Progress report #15 completed, sleeping for 0.2 minutes\n",
      "Progress report #16 completed, sleeping for 0.2 minutes\n",
      "Progress report #17 completed, sleeping for 0.2 minutes\n",
      "Progress report #18 completed, sleeping for 0.2 minutes\n",
      "Progress report #19 completed, sleeping for 0.2 minutes\n",
      "Progress report #20 completed, sleeping for 0.2 minutes\n",
      "Progress report #21 completed, sleeping for 0.2 minutes\n",
      "Progress report #22 completed, sleeping for 0.2 minutes\n",
      "Progress report #23 completed, sleeping for 0.2 minutes\n",
      "Progress report #24 completed, sleeping for 0.2 minutes\n",
      "Progress report #25 completed, sleeping for 0.2 minutes\n",
      "Progress report #26 completed, sleeping for 0.2 minutes\n",
      "Progress report #27 completed, sleeping for 0.2 minutes\n",
      "Progress report #28 completed, sleeping for 0.2 minutes\n",
      "Progress report #29 completed, sleeping for 0.2 minutes\n",
      "Progress report #30 completed, sleeping for 0.2 minutes\n",
      "Progress report #31 completed, sleeping for 0.2 minutes\n",
      "Progress report #32 completed, sleeping for 0.2 minutes\n",
      "Progress report #33 completed, sleeping for 0.2 minutes\n",
      "Progress report #34 completed, sleeping for 0.2 minutes\n",
      "Progress report #35 completed, sleeping for 0.2 minutes\n",
      "Progress report #36 completed, sleeping for 0.2 minutes\n",
      "Progress report #37 completed, sleeping for 0.2 minutes\n",
      "Progress report #38 completed, sleeping for 0.2 minutes\n",
      "Progress report #39 completed, sleeping for 0.2 minutes\n",
      "Progress report #40 completed, sleeping for 0.2 minutes\n",
      "Progress report #41 completed, sleeping for 0.2 minutes\n",
      "Progress report #42 completed, sleeping for 0.2 minutes\n",
      "Progress report #43 completed, sleeping for 0.2 minutes\n",
      "Progress report #44 completed, sleeping for 0.2 minutes\n",
      "Progress report #45 completed, sleeping for 0.2 minutes\n",
      "Progress report #46 completed, sleeping for 0.2 minutes\n",
      "Progress report #47 completed, sleeping for 0.2 minutes\n",
      "Progress report #48 completed, sleeping for 0.2 minutes\n",
      "Progress report #49 completed, sleeping for 0.2 minutes\n",
      "Progress report #50 completed, sleeping for 0.2 minutes\n",
      "Progress report #51 completed, sleeping for 0.2 minutes\n",
      "Progress report #52 completed, sleeping for 0.2 minutes\n",
      "Progress report #53 completed, sleeping for 0.2 minutes\n",
      "Progress report #54 completed, sleeping for 0.2 minutes\n",
      "Progress report #55 completed, sleeping for 0.2 minutes\n",
      "Progress report #56 completed, sleeping for 0.2 minutes\n",
      "Progress report #57 completed, sleeping for 0.2 minutes\n",
      "Progress report #58 completed, sleeping for 0.2 minutes\n",
      "Progress report #59 completed, sleeping for 0.2 minutes\n",
      "Progress report #60 completed, sleeping for 0.2 minutes\n",
      "Progress report #61 completed, sleeping for 0.2 minutes\n",
      "Progress report #62 completed, sleeping for 0.2 minutes\n",
      "Progress report #63 completed, sleeping for 0.2 minutes\n",
      "Progress report #64 completed, sleeping for 0.2 minutes\n",
      "Progress report #65 completed, sleeping for 0.2 minutes\n",
      "Progress report #66 completed, sleeping for 0.2 minutes\n",
      "Progress report #67 completed, sleeping for 0.2 minutes\n",
      "Progress report #68 completed, sleeping for 0.2 minutes\n",
      "Progress report #69 completed, sleeping for 0.2 minutes\n",
      "Progress report #70 completed, sleeping for 0.2 minutes\n",
      "Progress report #71 completed, sleeping for 0.2 minutes\n",
      "Progress report #72 completed, sleeping for 0.2 minutes\n",
      "Progress report #73 completed, sleeping for 0.2 minutes\n",
      "Progress report #74 completed, sleeping for 0.2 minutes\n",
      "Progress report #75 completed, sleeping for 0.2 minutes\n",
      "Progress report #76 completed, sleeping for 0.2 minutes\n",
      "Progress report #77 completed, sleeping for 0.2 minutes\n",
      "Progress report #78 completed, sleeping for 0.2 minutes\n",
      "Progress report #79 completed, sleeping for 0.2 minutes\n",
      "Progress report #80 completed, sleeping for 0.2 minutes\n",
      "Progress report #81 completed, sleeping for 0.2 minutes\n",
      "Progress report #82 completed, sleeping for 0.2 minutes\n",
      "Progress report #83 completed, sleeping for 0.2 minutes\n",
      "Progress report #84 completed, sleeping for 0.2 minutes\n",
      "Progress report #85 completed, sleeping for 0.2 minutes\n",
      "Progress report #86 completed, sleeping for 0.2 minutes\n",
      "Progress report #87 completed, sleeping for 0.2 minutes\n",
      "Progress report #88 completed, sleeping for 0.2 minutes\n",
      "Progress report #89 completed, sleeping for 0.2 minutes\n",
      "Progress report #90 completed, sleeping for 0.2 minutes\n",
      "Progress report #91 completed, sleeping for 0.2 minutes\n",
      "Progress report #92 completed, sleeping for 0.2 minutes\n",
      "Progress report #93 completed, sleeping for 0.2 minutes\n",
      "Progress report #94 completed, sleeping for 0.2 minutes\n",
      "Progress report #95 completed, sleeping for 0.2 minutes\n",
      "Progress report #96 completed, sleeping for 0.2 minutes\n",
      "Progress report #97 completed, sleeping for 0.2 minutes\n",
      "Progress report #98 completed, sleeping for 0.2 minutes\n",
      "Progress report #99 completed, sleeping for 0.2 minutes\n",
      "Progress report #100 completed, sleeping for 0.2 minutes\n",
      "Progress report #101 completed, sleeping for 0.2 minutes\n",
      "Progress report #102 completed, sleeping for 0.2 minutes\n",
      "Progress report #103 completed, sleeping for 0.2 minutes\n",
      "Progress report #104 completed, sleeping for 0.2 minutes\n",
      "Progress report #105 completed, sleeping for 0.2 minutes\n",
      "Progress report #106 completed, sleeping for 0.2 minutes\n",
      "Progress report #107 completed, sleeping for 0.2 minutes\n",
      "Progress report #108 completed, sleeping for 0.2 minutes\n",
      "Progress report #109 completed, sleeping for 0.2 minutes\n",
      "Progress report #110 completed, sleeping for 0.2 minutes\n",
      "Progress report #111 completed, sleeping for 0.2 minutes\n",
      "Progress report #112 completed, sleeping for 0.2 minutes\n",
      "Progress report #113 completed, sleeping for 0.2 minutes\n",
      "Progress report #114 completed, sleeping for 0.2 minutes\n",
      "Progress report #115 completed, sleeping for 0.2 minutes\n",
      "Progress report #116 completed, sleeping for 0.2 minutes\n",
      "Progress report #117 completed, sleeping for 0.2 minutes\n",
      "Progress report #118 completed, sleeping for 0.2 minutes\n",
      "Progress report #119 completed, sleeping for 0.2 minutes\n",
      "Progress report #120 completed, sleeping for 0.2 minutes\n",
      "Progress report #121 completed, sleeping for 0.2 minutes\n",
      "Progress report #122 completed, sleeping for 0.2 minutes\n",
      "Progress report #123 completed, sleeping for 0.2 minutes\n",
      "Progress report #124 completed, sleeping for 0.2 minutes\n",
      "Progress report #125 completed, sleeping for 0.2 minutes\n",
      "Progress report #126 completed, sleeping for 0.2 minutes\n",
      "Progress report #127 completed, sleeping for 0.2 minutes\n",
      "Progress report #128 completed, sleeping for 0.2 minutes\n",
      "Progress report #129 completed, sleeping for 0.2 minutes\n",
      "Progress report #130 completed, sleeping for 0.2 minutes\n",
      "Progress report #131 completed, sleeping for 0.2 minutes\n",
      "Progress report #132 completed, sleeping for 0.2 minutes\n",
      "Progress report #133 completed, sleeping for 0.2 minutes\n",
      "Progress report #134 completed, sleeping for 0.2 minutes\n",
      "Progress report #135 completed, sleeping for 0.2 minutes\n",
      "Progress report #136 completed, sleeping for 0.2 minutes\n"
     ]
    },
    {
     "name": "stdout",
     "output_type": "stream",
     "text": [
      "Progress report #137 completed, sleeping for 0.2 minutes\n",
      "Progress report #138 completed, sleeping for 0.2 minutes\n",
      "Progress report #139 completed, sleeping for 0.2 minutes\n",
      "Progress report #140 completed, sleeping for 0.2 minutes\n",
      "Progress report #141 completed, sleeping for 0.2 minutes\n",
      "Progress report #142 completed, sleeping for 0.2 minutes\n",
      "Progress report #143 completed, sleeping for 0.2 minutes\n",
      "Progress report #144 completed, sleeping for 0.2 minutes\n",
      "Progress report #145 completed, sleeping for 0.2 minutes\n",
      "Progress report #146 completed, sleeping for 0.2 minutes\n",
      "Progress report #147 completed, sleeping for 0.2 minutes\n",
      "Progress report #148 completed, sleeping for 0.2 minutes\n",
      "Progress report #149 completed, sleeping for 0.2 minutes\n",
      "Progress report #150 completed, sleeping for 0.2 minutes\n",
      "Progress report #151 completed, sleeping for 0.2 minutes\n",
      "Progress report #152 completed, sleeping for 0.2 minutes\n",
      "Progress report #153 completed, sleeping for 0.2 minutes\n",
      "Progress report #154 completed, sleeping for 0.2 minutes\n",
      "Progress report #155 completed, sleeping for 0.2 minutes\n",
      "Progress report #156 completed, sleeping for 0.2 minutes\n",
      "Progress report #157 completed, sleeping for 0.2 minutes\n",
      "Progress report #158 completed, sleeping for 0.2 minutes\n",
      "Progress report #159 completed, sleeping for 0.2 minutes\n",
      "Progress report #160 completed, sleeping for 0.2 minutes\n",
      "Progress report #161 completed, sleeping for 0.2 minutes\n",
      "Progress report #162 completed, sleeping for 0.2 minutes\n",
      "Progress report #163 completed, sleeping for 0.2 minutes\n",
      "Progress report #164 completed, sleeping for 0.2 minutes\n",
      "Progress report #165 completed, sleeping for 0.2 minutes\n",
      "Progress report #166 completed, sleeping for 0.2 minutes\n",
      "Progress report #167 completed, sleeping for 0.2 minutes\n",
      "Progress report #168 completed, sleeping for 0.2 minutes\n",
      "Progress report #169 completed, sleeping for 0.2 minutes\n",
      "Progress report #170 completed, sleeping for 0.2 minutes\n",
      "Progress report #171 completed, sleeping for 0.2 minutes\n",
      "Progress report #172 completed, sleeping for 0.2 minutes\n",
      "Progress report #173 completed, sleeping for 0.2 minutes\n",
      "Progress report #174 completed, sleeping for 0.2 minutes\n",
      "Progress report #175 completed, sleeping for 0.2 minutes\n",
      "Progress report #176 completed, sleeping for 0.2 minutes\n",
      "Progress report #177 completed, sleeping for 0.2 minutes\n",
      "Progress report #178 completed, sleeping for 0.2 minutes\n",
      "Progress report #179 completed, sleeping for 0.2 minutes\n",
      "Progress report #180 completed, sleeping for 0.2 minutes\n",
      "Progress report #181 completed, sleeping for 0.2 minutes\n",
      "Progress report #182 completed, sleeping for 0.2 minutes\n",
      "Progress report #183 completed, sleeping for 0.2 minutes\n",
      "Progress report #184 completed, sleeping for 0.2 minutes\n",
      "Progress report #185 completed, sleeping for 0.2 minutes\n",
      "Progress report #186 completed, sleeping for 0.2 minutes\n",
      "Progress report #187 completed, sleeping for 0.2 minutes\n",
      "Progress report #188 completed, sleeping for 0.2 minutes\n",
      "Progress report #189 completed, sleeping for 0.2 minutes\n",
      "Progress report #190 completed, sleeping for 0.2 minutes\n",
      "Progress report #191 completed, sleeping for 0.2 minutes\n",
      "Progress report #192 completed, sleeping for 0.2 minutes\n",
      "Progress report #193 completed, sleeping for 0.2 minutes\n",
      "Progress report #194 completed, sleeping for 0.2 minutes\n",
      "Progress report #195 completed, sleeping for 0.2 minutes\n",
      "Progress report #196 completed, sleeping for 0.2 minutes\n",
      "Progress report #197 completed, sleeping for 0.2 minutes\n",
      "Progress report #198 completed, sleeping for 0.2 minutes\n",
      "Progress report #199 completed, sleeping for 0.2 minutes\n",
      "Progress report #200 completed, sleeping for 0.2 minutes\n",
      "Progress report #201 completed, sleeping for 0.2 minutes\n",
      "Progress report #202 completed, sleeping for 0.2 minutes\n",
      "Progress report #203 completed, sleeping for 0.2 minutes\n",
      "Progress report #204 completed, sleeping for 0.2 minutes\n",
      "Progress report #205 completed, sleeping for 0.2 minutes\n",
      "Progress report #206 completed, sleeping for 0.2 minutes\n",
      "Progress report #207 completed, sleeping for 0.2 minutes\n",
      "Progress report #208 completed, sleeping for 0.2 minutes\n",
      "Progress report #209 completed, sleeping for 0.2 minutes\n",
      "Progress report #210 completed, sleeping for 0.2 minutes\n",
      "Progress report #211 completed, sleeping for 0.2 minutes\n",
      "Progress report #212 completed, sleeping for 0.2 minutes\n",
      "Progress report #213 completed, sleeping for 0.2 minutes\n",
      "Progress report #214 completed, sleeping for 0.2 minutes\n",
      "Progress report #215 completed, sleeping for 0.2 minutes\n",
      "Progress report #216 completed, sleeping for 0.2 minutes\n",
      "Progress report #217 completed, sleeping for 0.2 minutes\n",
      "Progress report #218 completed, sleeping for 0.2 minutes\n",
      "Progress report #219 completed, sleeping for 0.2 minutes\n",
      "Progress report #220 completed, sleeping for 0.2 minutes\n",
      "Progress report #221 completed, sleeping for 0.2 minutes\n",
      "Progress report #222 completed, sleeping for 0.2 minutes\n",
      "Progress report #223 completed, sleeping for 0.2 minutes\n",
      "Progress report #224 completed, sleeping for 0.2 minutes\n",
      "Progress report #225 completed, sleeping for 0.2 minutes\n",
      "Progress report #226 completed, sleeping for 0.2 minutes\n",
      "Progress report #227 completed, sleeping for 0.2 minutes\n",
      "Progress report #228 completed, sleeping for 0.2 minutes\n",
      "Progress report #229 completed, sleeping for 0.2 minutes\n",
      "Progress report #230 completed, sleeping for 0.2 minutes\n",
      "Progress report #231 completed, sleeping for 0.2 minutes\n",
      "Progress report #232 completed, sleeping for 0.2 minutes\n",
      "Progress report #233 completed, sleeping for 0.2 minutes\n",
      "Progress report #234 completed, sleeping for 0.2 minutes\n",
      "Progress report #235 completed, sleeping for 0.2 minutes\n",
      "Progress report #236 completed, sleeping for 0.2 minutes\n",
      "Progress report #237 completed, sleeping for 0.2 minutes\n",
      "Progress report #238 completed, sleeping for 0.2 minutes\n",
      "Progress report #239 completed, sleeping for 0.2 minutes\n",
      "Progress report #240 completed, sleeping for 0.2 minutes\n",
      "Progress report #241 completed, sleeping for 0.2 minutes\n",
      "Progress report #242 completed, sleeping for 0.2 minutes\n",
      "Progress report #243 completed, sleeping for 0.2 minutes\n",
      "Progress report #244 completed, sleeping for 0.2 minutes\n",
      "Progress report #245 completed, sleeping for 0.2 minutes\n",
      "Progress report #246 completed, sleeping for 0.2 minutes\n",
      "Progress report #247 completed, sleeping for 0.2 minutes\n",
      "Progress report #248 completed, sleeping for 0.2 minutes\n",
      "Progress report #249 completed, sleeping for 0.2 minutes\n",
      "Progress report #250 completed, sleeping for 0.2 minutes\n",
      "Progress report #251 completed, sleeping for 0.2 minutes\n",
      "Progress report #252 completed, sleeping for 0.2 minutes\n",
      "Progress report #253 completed, sleeping for 0.2 minutes\n",
      "Progress report #254 completed, sleeping for 0.2 minutes\n",
      "Progress report #255 completed, sleeping for 0.2 minutes\n",
      "Progress report #256 completed, sleeping for 0.2 minutes\n",
      "Progress report #257 completed, sleeping for 0.2 minutes\n",
      "Progress report #258 completed, sleeping for 0.2 minutes\n",
      "Progress report #259 completed, sleeping for 0.2 minutes\n",
      "Progress report #260 completed, sleeping for 0.2 minutes\n",
      "Progress report #261 completed, sleeping for 0.2 minutes\n",
      "Progress report #262 completed, sleeping for 0.2 minutes\n",
      "Progress report #263 completed, sleeping for 0.2 minutes\n",
      "Progress report #264 completed, sleeping for 0.2 minutes\n",
      "Progress report #265 completed, sleeping for 0.2 minutes\n",
      "Progress report #266 completed, sleeping for 0.2 minutes\n",
      "Progress report #267 completed, sleeping for 0.2 minutes\n",
      "Progress report #268 completed, sleeping for 0.2 minutes\n",
      "Progress report #269 completed, sleeping for 0.2 minutes\n",
      "Progress report #270 completed, sleeping for 0.2 minutes\n",
      "Progress report #271 completed, sleeping for 0.2 minutes\n",
      "Progress report #272 completed, sleeping for 0.2 minutes\n",
      "Progress report #273 completed, sleeping for 0.2 minutes\n",
      "Progress report #274 completed, sleeping for 0.2 minutes\n",
      "Progress report #275 completed, sleeping for 0.2 minutes\n",
      "Progress report #276 completed, sleeping for 0.2 minutes\n",
      "Progress report #277 completed, sleeping for 0.2 minutes\n",
      "Progress report #278 completed, sleeping for 0.2 minutes\n",
      "Progress report #279 completed, sleeping for 0.2 minutes\n",
      "Progress report #280 completed, sleeping for 0.2 minutes\n"
     ]
    },
    {
     "name": "stdout",
     "output_type": "stream",
     "text": [
      "Progress report #281 completed, sleeping for 0.2 minutes\n",
      "Progress report #282 completed, sleeping for 0.2 minutes\n",
      "Progress report #283 completed, sleeping for 0.06704156398773194 minutes\n",
      "['2b2d2b277d114c009dcbbc2389f4f69f', 'e61c6cffad084df1a3f5e6c5feed43cb']\n",
      "Optimization Done\n"
     ]
    }
   ],
   "source": [
    "if args['run_as_service']:\n",
    "    task.execute_remotely(queue_name='services', exit_process=True)\n",
    "\n",
    "an_optimizer.set_report_period(0.2)\n",
    "an_optimizer.start_locally(job_complete_callback=job_complete_callback)\n",
    "an_optimizer.set_time_limit(in_minutes= 60)\n",
    "an_optimizer.wait()\n",
    "top_exp = an_optimizer.get_top_experiments(top_k=2)\n",
    "print([t.id for t in top_exp])\n",
    "an_optimizer.stop()\n",
    "\n",
    "print('Optimization Done')\n"
   ]
  },
  {
   "cell_type": "code",
   "execution_count": 11,
   "metadata": {
    "id": "tWfRgBvsht6-"
   },
   "outputs": [],
   "source": [
    "task.close()"
   ]
  },
  {
   "cell_type": "markdown",
   "metadata": {
    "id": "yTV4baPlhFo_"
   },
   "source": [
    "## Step 5: hyperparameter tuning with learning rate decay\n",
    "Do hyperparater tuning with ClearML and copy the plots (e.g., parallel coordinates) from ClearML and visualize them here."
   ]
  },
  {
   "cell_type": "code",
   "execution_count": 12,
   "metadata": {
    "colab": {
     "base_uri": "https://localhost:8080/"
    },
    "id": "jMhdhmJ8Xaiw",
    "outputId": "d7841344-9ba4-4a68-b2ac-e73e51f0bf87"
   },
   "outputs": [
    {
     "name": "stdout",
     "output_type": "stream",
     "text": [
      "ClearML Task: created new task id=cd2b0b99b1d84db8af028da4d5927d2f\n",
      "ClearML results page: https://app.clear.ml/projects/eebccbdf8c5640c6a492056fe91e2ba3/experiments/cd2b0b99b1d84db8af028da4d5927d2f/output/log\n",
      "ClearML Monitor: GPU monitoring failed getting GPU reading, switching off GPU monitoring\n"
     ]
    }
   ],
   "source": [
    "task = Task.init(project_name='Part 2 Project 1 with LR delay',\n",
    "                 task_name='Automatic Hyper-Parameter Optimization',\n",
    "                 task_type=Task.TaskTypes.optimizer,\n",
    "                 reuse_last_task_id=False)\n",
    "\n",
    "\n",
    "args = {\n",
    "    'template_task_id': '80938b97d6d44a0a901a8242030d5573',\n",
    "    'run_as_service': False,\n",
    "}\n",
    "args = task.connect(args)\n"
   ]
  },
  {
   "cell_type": "code",
   "execution_count": 14,
   "metadata": {
    "id": "GVqG37oVh0Do"
   },
   "outputs": [],
   "source": [
    "an_optimizer = HyperParameterOptimizer(\n",
    "    base_task_id=args['template_task_id'],\n",
    "    hyper_parameters=[\n",
    "        DiscreteParameterRange('General/num_layers',  values=[4]),\n",
    "        DiscreteParameterRange('General/num_filters',  values=[32]),\n",
    "        DiscreteParameterRange('General/learning_rate',  values=[1e-3]),\n",
    "        DiscreteParameterRange('General/momentum',  values=[0.9]),\n",
    "        DiscreteParameterRange('General/weight_decay', values=[1e-4]),\n",
    "        UniformParameterRange('General/learning_rate_decay', min_value=0.8, max_value=1.0)\n",
    "    ],\n",
    "    objective_metric_title='Loss',\n",
    "    objective_metric_series='Train',\n",
    "    objective_metric_sign='min',\n",
    "    max_number_of_concurrent_tasks=2,\n",
    "    optimizer_class = aSearchStrategy,\n",
    "    spawn_project=None,\n",
    "    save_top_k_tasks_only=None,\n",
    "    total_max_jobs=4,\n",
    "    min_iteration_per_job=2,\n",
    "    max_iteration_per_job=3,\n",
    ")"
   ]
  },
  {
   "cell_type": "code",
   "execution_count": 15,
   "metadata": {
    "colab": {
     "base_uri": "https://localhost:8080/"
    },
    "id": "tM05HBmeiZrW",
    "outputId": "197ba03d-b6d0-4045-9e24-81b208304591"
   },
   "outputs": [
    {
     "name": "stdout",
     "output_type": "stream",
     "text": [
      "Progress report #0 completed, sleeping for 0.25 minutes\n",
      "Progress report #1 completed, sleeping for 0.2 minutes\n",
      "Progress report #2 completed, sleeping for 0.2 minutes\n",
      "Progress report #3 completed, sleeping for 0.2 minutes\n",
      "Progress report #4 completed, sleeping for 0.2 minutes\n",
      "Progress report #5 completed, sleeping for 0.2 minutes\n",
      "Progress report #6 completed, sleeping for 0.2 minutes\n",
      "Progress report #7 completed, sleeping for 0.2 minutes\n",
      "Progress report #8 completed, sleeping for 0.2 minutes\n",
      "Progress report #9 completed, sleeping for 0.2 minutes\n",
      "Progress report #10 completed, sleeping for 0.2 minutes\n",
      "Progress report #11 completed, sleeping for 0.2 minutes\n",
      "Progress report #12 completed, sleeping for 0.2 minutes\n",
      "Progress report #13 completed, sleeping for 0.2 minutes\n",
      "Progress report #14 completed, sleeping for 0.2 minutes\n",
      "Progress report #15 completed, sleeping for 0.2 minutes\n",
      "Progress report #16 completed, sleeping for 0.2 minutes\n",
      "Progress report #17 completed, sleeping for 0.2 minutes\n",
      "Progress report #18 completed, sleeping for 0.2 minutes\n",
      "Progress report #19 completed, sleeping for 0.2 minutes\n",
      "Progress report #20 completed, sleeping for 0.2 minutes\n",
      "Progress report #21 completed, sleeping for 0.2 minutes\n",
      "Progress report #22 completed, sleeping for 0.2 minutes\n",
      "Progress report #23 completed, sleeping for 0.2 minutes\n",
      "Progress report #24 completed, sleeping for 0.2 minutes\n",
      "Progress report #25 completed, sleeping for 0.2 minutes\n",
      "Progress report #26 completed, sleeping for 0.2 minutes\n",
      "Progress report #27 completed, sleeping for 0.2 minutes\n",
      "Progress report #28 completed, sleeping for 0.2 minutes\n",
      "Progress report #29 completed, sleeping for 0.2 minutes\n",
      "Progress report #30 completed, sleeping for 0.2 minutes\n",
      "Progress report #31 completed, sleeping for 0.2 minutes\n",
      "Progress report #32 completed, sleeping for 0.2 minutes\n",
      "Progress report #33 completed, sleeping for 0.2 minutes\n",
      "Progress report #34 completed, sleeping for 0.2 minutes\n",
      "Progress report #35 completed, sleeping for 0.2 minutes\n",
      "Progress report #36 completed, sleeping for 0.2 minutes\n",
      "Progress report #37 completed, sleeping for 0.2 minutes\n",
      "Progress report #38 completed, sleeping for 0.2 minutes\n",
      "Progress report #39 completed, sleeping for 0.2 minutes\n",
      "Progress report #40 completed, sleeping for 0.2 minutes\n",
      "Progress report #41 completed, sleeping for 0.2 minutes\n",
      "Progress report #42 completed, sleeping for 0.2 minutes\n",
      "Progress report #43 completed, sleeping for 0.2 minutes\n",
      "Progress report #44 completed, sleeping for 0.2 minutes\n",
      "Progress report #45 completed, sleeping for 0.2 minutes\n",
      "Progress report #46 completed, sleeping for 0.2 minutes\n",
      "Progress report #47 completed, sleeping for 0.2 minutes\n",
      "Progress report #48 completed, sleeping for 0.2 minutes\n",
      "Progress report #49 completed, sleeping for 0.2 minutes\n",
      "Progress report #50 completed, sleeping for 0.2 minutes\n",
      "Progress report #51 completed, sleeping for 0.2 minutes\n",
      "Progress report #52 completed, sleeping for 0.2 minutes\n",
      "Progress report #53 completed, sleeping for 0.2 minutes\n",
      "Progress report #54 completed, sleeping for 0.2 minutes\n",
      "Progress report #55 completed, sleeping for 0.2 minutes\n",
      "Progress report #56 completed, sleeping for 0.2 minutes\n",
      "Progress report #57 completed, sleeping for 0.2 minutes\n",
      "Progress report #58 completed, sleeping for 0.2 minutes\n",
      "Progress report #59 completed, sleeping for 0.2 minutes\n",
      "Progress report #60 completed, sleeping for 0.2 minutes\n",
      "Progress report #61 completed, sleeping for 0.2 minutes\n",
      "Progress report #62 completed, sleeping for 0.2 minutes\n",
      "Progress report #63 completed, sleeping for 0.2 minutes\n",
      "Progress report #64 completed, sleeping for 0.2 minutes\n",
      "Progress report #65 completed, sleeping for 0.2 minutes\n",
      "Progress report #66 completed, sleeping for 0.2 minutes\n",
      "Progress report #67 completed, sleeping for 0.2 minutes\n",
      "Progress report #68 completed, sleeping for 0.2 minutes\n",
      "Progress report #69 completed, sleeping for 0.2 minutes\n",
      "Progress report #70 completed, sleeping for 0.2 minutes\n",
      "Progress report #71 completed, sleeping for 0.2 minutes\n",
      "Progress report #72 completed, sleeping for 0.2 minutes\n",
      "Progress report #73 completed, sleeping for 0.2 minutes\n",
      "Progress report #74 completed, sleeping for 0.2 minutes\n",
      "Progress report #75 completed, sleeping for 0.2 minutes\n",
      "Progress report #76 completed, sleeping for 0.2 minutes\n",
      "Progress report #77 completed, sleeping for 0.2 minutes\n",
      "Progress report #78 completed, sleeping for 0.2 minutes\n",
      "Progress report #79 completed, sleeping for 0.2 minutes\n",
      "Progress report #80 completed, sleeping for 0.2 minutes\n",
      "Progress report #81 completed, sleeping for 0.2 minutes\n",
      "Progress report #82 completed, sleeping for 0.2 minutes\n",
      "Progress report #83 completed, sleeping for 0.2 minutes\n",
      "Progress report #84 completed, sleeping for 0.2 minutes\n",
      "Progress report #85 completed, sleeping for 0.2 minutes\n",
      "Progress report #86 completed, sleeping for 0.2 minutes\n",
      "Progress report #87 completed, sleeping for 0.2 minutes\n",
      "Progress report #88 completed, sleeping for 0.2 minutes\n",
      "Progress report #89 completed, sleeping for 0.2 minutes\n",
      "Progress report #90 completed, sleeping for 0.2 minutes\n",
      "Progress report #91 completed, sleeping for 0.2 minutes\n",
      "Progress report #92 completed, sleeping for 0.2 minutes\n",
      "Progress report #93 completed, sleeping for 0.2 minutes\n",
      "Progress report #94 completed, sleeping for 0.2 minutes\n",
      "Progress report #95 completed, sleeping for 0.019539427757263184 minutes\n",
      "['92053488239546689f07ad37829a5dfc', 'ba49e7728d854faca5ad5c031e93c65f']\n",
      "Optimization Done\n"
     ]
    }
   ],
   "source": [
    "if args['run_as_service']:\n",
    "    task.execute_remotely(queue_name='services', exit_process=True)\n",
    "\n",
    "an_optimizer.set_report_period(0.2)\n",
    "an_optimizer.start_locally(job_complete_callback=job_complete_callback)\n",
    "an_optimizer.set_time_limit(in_minutes= 20)\n",
    "an_optimizer.wait()\n",
    "top_exp = an_optimizer.get_top_experiments(top_k=2)\n",
    "print([t.id for t in top_exp])\n",
    "an_optimizer.stop()\n",
    "\n",
    "print('Optimization Done')"
   ]
  },
  {
   "cell_type": "code",
   "execution_count": 16,
   "metadata": {
    "id": "9j4McBP7j_qk"
   },
   "outputs": [],
   "source": [
    "task.close()"
   ]
  },
  {
   "cell_type": "markdown",
   "metadata": {
    "id": "wcP3Qmcbjr0W"
   },
   "source": [
    "## Step 6: Evaluation\n",
    "Evaluate the best model on test dataset and report accuracy, precision, recall, and F1 score."
   ]
  },
  {
   "cell_type": "code",
   "execution_count": 18,
   "metadata": {
    "colab": {
     "base_uri": "https://localhost:8080/"
    },
    "id": "-4iDJQCKjq_I",
    "outputId": "8db53329-425d-4e72-bf6f-c8981c0a884a"
   },
   "outputs": [],
   "source": [
    "import torch\n",
    "import torch.nn as nn\n",
    "import torch.utils.data as data\n",
    "from torchvision import datasets, transforms\n",
    "from sklearn.metrics import accuracy_score, precision_score, recall_score, f1_score"
   ]
  },
  {
   "cell_type": "code",
   "execution_count": 19,
   "metadata": {
    "id": "MbV7VQvBkGB-"
   },
   "outputs": [],
   "source": [
    "test_transform = transforms.Compose([\n",
    "    transforms.Resize((224, 224)), \n",
    "    transforms.ToTensor(),         \n",
    "])\n",
    "\n",
    "# Load the test dataset\n",
    "test_dir = \"Dataset/Test\"\n",
    "test_dataset = datasets.ImageFolder(test_dir, transform=test_transform)\n",
    "\n",
    "# DataLoader for the test dataset\n",
    "test_loader = data.DataLoader(test_dataset, batch_size=16, shuffle=False)"
   ]
  },
  {
   "cell_type": "code",
   "execution_count": 20,
   "metadata": {
    "id": "-5NcTFQ_kIY5"
   },
   "outputs": [],
   "source": [
    "class SimpleCNN(nn.Module):\n",
    "    def __init__(self, num_layers=4, num_filters=32, kernel_size=3, input_channels=3, num_classes=2):\n",
    "        super(SimpleCNN, self).__init__()\n",
    "        self.layers = nn.ModuleList()\n",
    "        in_channels = input_channels\n",
    "        for _ in range(num_layers):\n",
    "            self.layers.append(nn.Conv2d(in_channels, num_filters, kernel_size, padding=kernel_size // 2))\n",
    "            self.layers.append(nn.ReLU())\n",
    "            self.layers.append(nn.MaxPool2d(2))\n",
    "            in_channels = num_filters\n",
    "        self.fc = nn.Linear(num_filters * (224 // (2 ** num_layers)) ** 2, num_classes)\n",
    "\n",
    "    def forward(self, x):\n",
    "        for layer in self.layers:\n",
    "            x = layer(x)\n",
    "        x = x.view(x.size(0), -1)\n",
    "        x = self.fc(x)\n",
    "        return x"
   ]
  },
  {
   "cell_type": "code",
   "execution_count": 24,
   "metadata": {
    "colab": {
     "base_uri": "https://localhost:8080/"
    },
    "id": "D8EBd6IKkZDz",
    "outputId": "ad9e170d-1a48-40d9-e0ef-b67861a4e18a"
   },
   "outputs": [
    {
     "data": {
      "text/plain": [
       "<All keys matched successfully>"
      ]
     },
     "execution_count": 24,
     "metadata": {},
     "output_type": "execute_result"
    }
   ],
   "source": [
    "# Load the best model\n",
    "best_model_path = \"best_model.pth\"\n",
    "model = SimpleCNN(num_layers=4, num_filters=32)\n",
    "model.load_state_dict(torch.load(best_model_path))"
   ]
  },
  {
   "cell_type": "code",
   "execution_count": 25,
   "metadata": {
    "colab": {
     "base_uri": "https://localhost:8080/"
    },
    "id": "Dv12O4B5kjj8",
    "outputId": "e40109c9-e418-4b1d-8b0e-94cd2955e4f2"
   },
   "outputs": [
    {
     "name": "stdout",
     "output_type": "stream",
     "text": [
      "Accuracy: 0.70\n",
      "Precision: 0.81\n",
      "Recall: 0.70\n",
      "F1 Score: 0.67\n"
     ]
    }
   ],
   "source": [
    "model.eval()\n",
    "\n",
    "# Evaluation loop\n",
    "all_labels = []\n",
    "all_predictions = []\n",
    "\n",
    "with torch.no_grad():\n",
    "    for images, labels in test_loader:\n",
    "        outputs = model(images)\n",
    "        _, predictions = torch.max(outputs, 1)\n",
    "        all_labels.extend(labels.cpu().numpy())\n",
    "        all_predictions.extend(predictions.cpu().numpy())\n",
    "\n",
    "# Calculate performance metrics\n",
    "accuracy = accuracy_score(all_labels, all_predictions)\n",
    "precision = precision_score(all_labels, all_predictions, average='weighted')\n",
    "recall = recall_score(all_labels, all_predictions, average='weighted')\n",
    "f1 = f1_score(all_labels, all_predictions, average='weighted')\n",
    "\n",
    "# Print the results\n",
    "print(f\"Accuracy: {accuracy:.2f}\")\n",
    "print(f\"Precision: {precision:.2f}\")\n",
    "print(f\"Recall: {recall:.2f}\")\n",
    "print(f\"F1 Score: {f1:.2f}\")\n"
   ]
  },
  {
   "cell_type": "markdown",
   "metadata": {
    "id": "yzZ1T3NBlF66"
   },
   "source": [
    "## Step 7: Analysis\n",
    "Provide a complete analysis of the whole process.\n"
   ]
  },
  {
   "cell_type": "markdown",
   "metadata": {},
   "source": [
    "### Step 1: Hyperparameter Tuning Without Learning Rate Decay\n",
    "In this step, ClearML was utilized to perform hyperparameter optimization on a basic CNN model. A range of hyperparameters, including the number of layers, filters, learning rate, momentum, and weight decay, were explored using Uniform and LogUniform parameter ranges. The goal was to minimize the training loss. Random Search was the fallback optimizer when advanced optimization strategies (Optuna or hpbandster) were unavailable.\n",
    "\n",
    "#### Observations:\n",
    "- The optimization successfully identified hyperparameter combinations that reduced the training loss.\n",
    "- The parallel coordinates plot from ClearML provided insights into which parameters had the most significant impact on the loss metric.\n",
    "- A total of 5 experiments were conducted, with two top-performing configurations saved.\n",
    "\n",
    "### Step 2: Hyperparameter Tuning With Learning Rate Decay\n",
    "This step introduced an additional hyperparameter for learning rate decay. This modification was aimed at observing the effect of gradually reducing the learning rate during training, which often improves convergence.\n",
    "\n",
    "#### Observations:\n",
    "- Learning rate decay helped refine the model's performance, especially in cases where overfitting might occur.\n",
    "- The ClearML platform visualized the parameter correlations and the resulting performance metrics, helping identify the optimal setup.\n",
    "\n",
    "### Step 3: Model Evaluation\n",
    "The best model obtained from the hyperparameter tuning process was evaluated on the test dataset. Metrics such as accuracy, precision, recall, and F1 score were calculated to quantify the model's performance.\n",
    "\n",
    "- Results:\n",
    "  - Accuracy: 70%\n",
    "  - Precision: 81%\n",
    "  - Recall: 70%\n",
    "  - F1 Score: 67%\n",
    "  \n",
    "The precision was higher than the recall, indicating that the model was more conservative in making predictions, possibly avoiding false positives at the cost of missing some true positives.\n",
    "\n",
    "\n",
    "#### Insights\n",
    "The experiment demonstrates the importance of systematic hyperparameter tuning and evaluation. By leveraging tools like ClearML, the process becomes transparent, reproducible, and efficient. Although the model's performance metrics are decent, further improvements could be made by addressing dataset limitations and exploring advanced optimization techniques.\n",
    "\n",
    "#### Conclusion\n",
    "The hyperparameter tuning process with and without learning rate decay provided valuable insights into the effects of different configurations. The model achieved reasonable performance, and the analysis of ClearML's visualizations guided the selection of the optimal setup."
   ]
  }
 ],
 "metadata": {
  "accelerator": "GPU",
  "colab": {
   "gpuType": "T4",
   "provenance": []
  },
  "kernelspec": {
   "display_name": "Python 3 (ipykernel)",
   "language": "python",
   "name": "python3"
  },
  "language_info": {
   "codemirror_mode": {
    "name": "ipython",
    "version": 3
   },
   "file_extension": ".py",
   "mimetype": "text/x-python",
   "name": "python",
   "nbconvert_exporter": "python",
   "pygments_lexer": "ipython3",
   "version": "3.9.18"
  }
 },
 "nbformat": 4,
 "nbformat_minor": 1
}
